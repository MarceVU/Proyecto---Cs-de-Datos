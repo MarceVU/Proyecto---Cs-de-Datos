{
 "cells": [
  {
   "cell_type": "markdown",
   "id": "fdca85c1",
   "metadata": {},
   "source": [
    "# Influencia del ingreso económico en el rendimiento en enseñanza media.\n",
    "\n",
    "\n",
    "Durante los últimos años se ha notado un problema en el desempeño de los estudiantes, especialmente en contexto de pandemia, que ha traido consigo muchos aspectos negativos y han impactado significativamente las vidas de la población. Un estudio de Mineduc y el Banco de Chile publicado en agosto del año 2020* señala que debido al estado del país durante este período es probable un retroceso de 1,3 años en la escolaridad según aprendizaje de los estudiantes, lo que significa una pérdida importante tanto para establecimientos escolares como para universidades. Estando experimentando esta problemática directamente, fue considerado relevante estudiar las posibles variables que estarían influyendo en el aspecto académico del país, haciendo un énfasis en los bienes por región.\n",
    "\n",
    "Para lo anterior, a partir de la base de datos de Mineduc y su información respecto al desempeño estudiantil, se analizarán y compararán las relaciones que esto tiene con los ingresos económicos regionales y la cantidad de redes a internet fijas, debido a la relevancia que ambas cosas han adquirido en nuestro contexto. De esa forma, se dará respuesta a las siguientes preguntas:\n",
    "\n",
    "* ¿Cuáles son las regiones que presentan mayor desempeño académico y cuáles son las diferencias con las que tienen peor rendimiento? ¿Coincide lo anterior con el ingreso que estas presentan?\n",
    "* ¿Se puede decir que hay una relación lineal entre ambas variables?\n",
    "* ¿Se puede afirmar que el acceso a internet y los ingresos económicos influyen en los estudiantes?\n",
    "* ¿Existe alguna conexión además entre el acceso a internet y los ingresos económicos?\n",
    "* ¿Se puede predecir el desempeño del próximo año a partir de lo observado? Y si es así, ¿cómo sería?\n"
   ]
  },
  {
   "cell_type": "markdown",
   "id": "38559067",
   "metadata": {},
   "source": [
    "*https://www.mineduc.cl/impacto-del-covid-19-en-los-resultados-de-aprendizaje-en-chile/"
   ]
  },
  {
   "cell_type": "markdown",
   "id": "83204785",
   "metadata": {},
   "source": [
    "Los datos a utilizar provienen de bases públicas, y tienen distintas características:\n",
    "\n",
    "El primero es un archivo .xlsx que se encuentra en la página web de Mineduc, y contiene información de todo tipo del desempeño estudiantil, incluyendo el promedio general anual, la comuna y región de cada estudiante. La mayoría de sus datos son de tipo numérico, incluso los que no tienen un valor específico y en su lugar lo utilizan como representación.\n",
    "\n",
    "El segundo es un archivo de formato .csv de la Subsecrretaría de Comunicaciones que tiene información respecto a las redes de internet fijas en los hogares, clasificadas por año y región. Los elementos son de tipo numérico y es de corta extensión.\n",
    "\n",
    "Por último, el tercer grupo de datos corresponde a un archivo .xlsx de la encuesta Casen que contiene información sobre el ingreso promedio de los hogares por región, con 7 años registrados a partir del 2006. Al ser ingresos monetarios, al igual que los datos anteriores, estos también son de tipo numérico."
   ]
  },
  {
   "cell_type": "code",
   "execution_count": null,
   "id": "56c114df",
   "metadata": {},
   "outputs": [],
   "source": []
  }
 ],
 "metadata": {
  "kernelspec": {
   "display_name": "Python 3",
   "language": "python",
   "name": "python3"
  },
  "language_info": {
   "codemirror_mode": {
    "name": "ipython",
    "version": 3
   },
   "file_extension": ".py",
   "mimetype": "text/x-python",
   "name": "python",
   "nbconvert_exporter": "python",
   "pygments_lexer": "ipython3",
   "version": "3.8.8"
  }
 },
 "nbformat": 4,
 "nbformat_minor": 5
}
