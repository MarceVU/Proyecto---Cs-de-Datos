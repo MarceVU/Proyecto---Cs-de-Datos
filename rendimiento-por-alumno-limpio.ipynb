{
 "cells": [
  {
   "cell_type": "code",
   "execution_count": 1,
   "id": "fdf7be8a",
   "metadata": {},
   "outputs": [],
   "source": [
    "import pandas as pd\n",
    "import numpy as np"
   ]
  },
  {
   "cell_type": "code",
   "execution_count": 2,
   "id": "724b50f1",
   "metadata": {},
   "outputs": [
    {
     "name": "stderr",
     "output_type": "stream",
     "text": [
      "/Users/naiomi/opt/anaconda3/lib/python3.8/site-packages/IPython/core/interactiveshell.py:3165: DtypeWarning: Columns (25) have mixed types.Specify dtype option on import or set low_memory=False.\n",
      "  has_raised = await self.run_ast_nodes(code_ast.body, cell_name,\n"
     ]
    }
   ],
   "source": [
    "dat=pd.read_csv('20210223_Rendimiento_2020_20210131_WEB.csv',delimiter=';')"
   ]
  },
  {
   "cell_type": "code",
   "execution_count": 3,
   "id": "a40282d5",
   "metadata": {},
   "outputs": [
    {
     "data": {
      "text/plain": [
       "3164534"
      ]
     },
     "execution_count": 3,
     "metadata": {},
     "output_type": "execute_result"
    }
   ],
   "source": [
    "len(dat)"
   ]
  },
  {
   "cell_type": "markdown",
   "id": "43648098",
   "metadata": {},
   "source": [
    "#### Eliminación y cambio de nombre de columnas"
   ]
  },
  {
   "cell_type": "code",
   "execution_count": 4,
   "id": "604d1f78",
   "metadata": {},
   "outputs": [
    {
     "name": "stdout",
     "output_type": "stream",
     "text": [
      "AGNO\n",
      "RBD\n",
      "DGV_RBD\n",
      "NOM_RBD\n",
      "COD_REG_RBD\n",
      "NOM_REG_RBD_A\n",
      "COD_PRO_RBD\n",
      "COD_COM_RBD\n",
      "NOM_COM_RBD\n",
      "COD_DEPROV_RBD\n",
      "NOM_DEPROV_RBD\n",
      "COD_DEPE\n",
      "COD_DEPE2\n",
      "RURAL_RBD\n",
      "ESTADO_ESTAB\n",
      "COD_ENSE\n",
      "COD_ENSE2\n",
      "COD_GRADO\n",
      "LET_CUR\n",
      "COD_JOR\n",
      "COD_TIP_CUR\n",
      "COD_DES_CUR\n",
      "MRUN\n",
      "GEN_ALU\n",
      "FEC_NAC_ALU\n",
      "EDAD_ALU\n",
      "COD_REG_ALU\n",
      "COD_COM_ALU\n",
      "NOM_COM_ALU\n",
      "COD_RAMA\n",
      "COD_SEC\n",
      "COD_ESPE\n",
      "PROM_GRAL\n",
      "ASISTENCIA\n",
      "SIT_FIN\n",
      "SIT_FIN_R\n",
      "COD_MEN\n"
     ]
    }
   ],
   "source": [
    "cols=dat.columns\n",
    "for c in cols:\n",
    "    print(c)"
   ]
  },
  {
   "cell_type": "code",
   "execution_count": 5,
   "id": "346ede8b",
   "metadata": {},
   "outputs": [],
   "source": [
    "keep_cols = ['AGNO', 'RBD', 'NOM_RBD', 'COD_REG_RBD', 'NOM_REG_RBD_A', 'COD_DEPE2',\n",
    "            'RURAL_RBD', 'COD_ENSE', 'COD_ENSE2', 'COD_GRADO', 'PROM_GRAL', 'SIT_FIN_R']\n",
    "dat = dat[keep_cols]\n",
    "dat.reset_index(drop=True, inplace=True)"
   ]
  },
  {
   "cell_type": "code",
   "execution_count": 6,
   "id": "6dccc2d4",
   "metadata": {},
   "outputs": [
    {
     "data": {
      "text/html": [
       "<div>\n",
       "<style scoped>\n",
       "    .dataframe tbody tr th:only-of-type {\n",
       "        vertical-align: middle;\n",
       "    }\n",
       "\n",
       "    .dataframe tbody tr th {\n",
       "        vertical-align: top;\n",
       "    }\n",
       "\n",
       "    .dataframe thead th {\n",
       "        text-align: right;\n",
       "    }\n",
       "</style>\n",
       "<table border=\"1\" class=\"dataframe\">\n",
       "  <thead>\n",
       "    <tr style=\"text-align: right;\">\n",
       "      <th></th>\n",
       "      <th>AGNO</th>\n",
       "      <th>RBD</th>\n",
       "      <th>NOM_RBD</th>\n",
       "      <th>COD_REG_RBD</th>\n",
       "      <th>NOM_REG_RBD_A</th>\n",
       "      <th>COD_DEPE2</th>\n",
       "      <th>RURAL_RBD</th>\n",
       "      <th>COD_ENSE</th>\n",
       "      <th>COD_ENSE2</th>\n",
       "      <th>COD_GRADO</th>\n",
       "      <th>PROM_GRAL</th>\n",
       "      <th>SIT_FIN_R</th>\n",
       "    </tr>\n",
       "  </thead>\n",
       "  <tbody>\n",
       "    <tr>\n",
       "      <th>3164529</th>\n",
       "      <td>2020</td>\n",
       "      <td>41807</td>\n",
       "      <td>INSTITUTO DE ENSEÑANZA PRIMARIA PROFESOR PAULO...</td>\n",
       "      <td>13</td>\n",
       "      <td>RM</td>\n",
       "      <td>3</td>\n",
       "      <td>0</td>\n",
       "      <td>110</td>\n",
       "      <td>2</td>\n",
       "      <td>1</td>\n",
       "      <td>6,8</td>\n",
       "      <td>P</td>\n",
       "    </tr>\n",
       "    <tr>\n",
       "      <th>3164530</th>\n",
       "      <td>2020</td>\n",
       "      <td>41807</td>\n",
       "      <td>INSTITUTO DE ENSEÑANZA PRIMARIA PROFESOR PAULO...</td>\n",
       "      <td>13</td>\n",
       "      <td>RM</td>\n",
       "      <td>3</td>\n",
       "      <td>0</td>\n",
       "      <td>110</td>\n",
       "      <td>2</td>\n",
       "      <td>1</td>\n",
       "      <td>6,9</td>\n",
       "      <td>P</td>\n",
       "    </tr>\n",
       "    <tr>\n",
       "      <th>3164531</th>\n",
       "      <td>2020</td>\n",
       "      <td>41807</td>\n",
       "      <td>INSTITUTO DE ENSEÑANZA PRIMARIA PROFESOR PAULO...</td>\n",
       "      <td>13</td>\n",
       "      <td>RM</td>\n",
       "      <td>3</td>\n",
       "      <td>0</td>\n",
       "      <td>110</td>\n",
       "      <td>2</td>\n",
       "      <td>2</td>\n",
       "      <td>7</td>\n",
       "      <td>P</td>\n",
       "    </tr>\n",
       "    <tr>\n",
       "      <th>3164532</th>\n",
       "      <td>2020</td>\n",
       "      <td>41807</td>\n",
       "      <td>INSTITUTO DE ENSEÑANZA PRIMARIA PROFESOR PAULO...</td>\n",
       "      <td>13</td>\n",
       "      <td>RM</td>\n",
       "      <td>3</td>\n",
       "      <td>0</td>\n",
       "      <td>110</td>\n",
       "      <td>2</td>\n",
       "      <td>2</td>\n",
       "      <td>6,9</td>\n",
       "      <td>P</td>\n",
       "    </tr>\n",
       "    <tr>\n",
       "      <th>3164533</th>\n",
       "      <td>2020</td>\n",
       "      <td>41807</td>\n",
       "      <td>INSTITUTO DE ENSEÑANZA PRIMARIA PROFESOR PAULO...</td>\n",
       "      <td>13</td>\n",
       "      <td>RM</td>\n",
       "      <td>3</td>\n",
       "      <td>0</td>\n",
       "      <td>110</td>\n",
       "      <td>2</td>\n",
       "      <td>2</td>\n",
       "      <td>7</td>\n",
       "      <td>P</td>\n",
       "    </tr>\n",
       "  </tbody>\n",
       "</table>\n",
       "</div>"
      ],
      "text/plain": [
       "         AGNO    RBD                                            NOM_RBD  \\\n",
       "3164529  2020  41807  INSTITUTO DE ENSEÑANZA PRIMARIA PROFESOR PAULO...   \n",
       "3164530  2020  41807  INSTITUTO DE ENSEÑANZA PRIMARIA PROFESOR PAULO...   \n",
       "3164531  2020  41807  INSTITUTO DE ENSEÑANZA PRIMARIA PROFESOR PAULO...   \n",
       "3164532  2020  41807  INSTITUTO DE ENSEÑANZA PRIMARIA PROFESOR PAULO...   \n",
       "3164533  2020  41807  INSTITUTO DE ENSEÑANZA PRIMARIA PROFESOR PAULO...   \n",
       "\n",
       "         COD_REG_RBD NOM_REG_RBD_A  COD_DEPE2  RURAL_RBD  COD_ENSE  COD_ENSE2  \\\n",
       "3164529           13            RM          3          0       110          2   \n",
       "3164530           13            RM          3          0       110          2   \n",
       "3164531           13            RM          3          0       110          2   \n",
       "3164532           13            RM          3          0       110          2   \n",
       "3164533           13            RM          3          0       110          2   \n",
       "\n",
       "         COD_GRADO PROM_GRAL SIT_FIN_R  \n",
       "3164529          1       6,8         P  \n",
       "3164530          1       6,9         P  \n",
       "3164531          2         7         P  \n",
       "3164532          2       6,9         P  \n",
       "3164533          2         7         P  "
      ]
     },
     "execution_count": 6,
     "metadata": {},
     "output_type": "execute_result"
    }
   ],
   "source": [
    "dat.tail()"
   ]
  },
  {
   "cell_type": "code",
   "execution_count": 7,
   "id": "10ee470b",
   "metadata": {},
   "outputs": [
    {
     "data": {
      "text/plain": [
       "3164534"
      ]
     },
     "execution_count": 7,
     "metadata": {},
     "output_type": "execute_result"
    }
   ],
   "source": [
    "dat.rename(columns={'AGNO': 'AÑO', 'COD_DEPE2': 'COD_DEPENDENCIA', 'COD_ENSE': 'COD_ENSEÑANZA',\n",
    "                   'COD_ENSE2': 'COD_ENSEÑANZA2', 'SIT_FIN_R': 'SIT_FINAL'}, inplace=True)\n",
    "len(dat)"
   ]
  },
  {
   "cell_type": "code",
   "execution_count": 8,
   "id": "e17c18db",
   "metadata": {},
   "outputs": [
    {
     "data": {
      "text/plain": [
       "array([2020])"
      ]
     },
     "execution_count": 8,
     "metadata": {},
     "output_type": "execute_result"
    }
   ],
   "source": [
    "dat['AÑO'].unique()"
   ]
  },
  {
   "cell_type": "markdown",
   "id": "2721a293",
   "metadata": {},
   "source": [
    "##### Como todos los registros corresponden al año 2020, se elimina esta columna"
   ]
  },
  {
   "cell_type": "code",
   "execution_count": 9,
   "id": "e76ec348",
   "metadata": {},
   "outputs": [],
   "source": [
    "dat.drop('AÑO',axis = 1, inplace=True)"
   ]
  },
  {
   "cell_type": "markdown",
   "id": "22a2a813",
   "metadata": {},
   "source": [
    "##### Se conservan sólo registros de enseñanza media"
   ]
  },
  {
   "cell_type": "code",
   "execution_count": 10,
   "id": "31d913db",
   "metadata": {},
   "outputs": [
    {
     "data": {
      "text/plain": [
       "1060244"
      ]
     },
     "execution_count": 10,
     "metadata": {},
     "output_type": "execute_result"
    }
   ],
   "source": [
    "# Ciclo que recorre una lista con los códigos de grados de enseñanza básica\n",
    "for cod in [110, 160, 161, 163, 165, 167]:\n",
    "    # Se eliminan todos los registros con el código \"cod\" de la iteración\n",
    "    dat=dat[dat['COD_ENSEÑANZA'] != cod]\n",
    "dat.reset_index(drop=True, inplace=True)\n",
    "len(dat)"
   ]
  },
  {
   "cell_type": "markdown",
   "id": "4172fe0a",
   "metadata": {},
   "source": [
    "##### Se conservan sólo los grados para jóvenes (códigos 6 y 8 corresponden a educación para adultos)"
   ]
  },
  {
   "cell_type": "code",
   "execution_count": 11,
   "id": "cc9a2764",
   "metadata": {},
   "outputs": [
    {
     "data": {
      "text/plain": [
       "933871"
      ]
     },
     "execution_count": 11,
     "metadata": {},
     "output_type": "execute_result"
    }
   ],
   "source": [
    "# Ciclo que recorre una lista con los códigos de grados de enseñanza básica\n",
    "for cod in [6, 8]:\n",
    "    # Se eliminan todos los registros con el código \"cod\" de la iteración\n",
    "    dat=dat[dat['COD_ENSEÑANZA2'] != cod]\n",
    "dat.reset_index(drop=True, inplace=True)\n",
    "len(dat)"
   ]
  },
  {
   "cell_type": "markdown",
   "id": "e5c516a2",
   "metadata": {},
   "source": [
    "#### Datos faltantes"
   ]
  },
  {
   "cell_type": "code",
   "execution_count": 12,
   "id": "bc61b900",
   "metadata": {},
   "outputs": [],
   "source": [
    "dat = dat.replace(' ', np.nan)"
   ]
  },
  {
   "cell_type": "code",
   "execution_count": 13,
   "id": "db9a1136",
   "metadata": {},
   "outputs": [
    {
     "data": {
      "text/plain": [
       "RBD                  0\n",
       "NOM_RBD              0\n",
       "COD_REG_RBD          0\n",
       "NOM_REG_RBD_A        0\n",
       "COD_DEPENDENCIA      0\n",
       "RURAL_RBD            0\n",
       "COD_ENSEÑANZA        0\n",
       "COD_ENSEÑANZA2       0\n",
       "COD_GRADO            0\n",
       "PROM_GRAL            0\n",
       "SIT_FINAL          141\n",
       "dtype: int64"
      ]
     },
     "execution_count": 13,
     "metadata": {},
     "output_type": "execute_result"
    }
   ],
   "source": [
    "dat.isna().sum()"
   ]
  },
  {
   "cell_type": "code",
   "execution_count": 14,
   "id": "64672778",
   "metadata": {},
   "outputs": [
    {
     "data": {
      "text/plain": [
       "array(['P', 'T', 'R', 'Y', nan], dtype=object)"
      ]
     },
     "execution_count": 14,
     "metadata": {},
     "output_type": "execute_result"
    }
   ],
   "source": [
    "dat['SIT_FINAL'].unique()"
   ]
  },
  {
   "cell_type": "code",
   "execution_count": 15,
   "id": "54e7c554",
   "metadata": {},
   "outputs": [],
   "source": [
    "#dat['SIT_FINAL']=dat['SIT_FINAL'].replace(np.nan, 'SIN_INFO')"
   ]
  },
  {
   "cell_type": "code",
   "execution_count": 16,
   "id": "fa687db0",
   "metadata": {},
   "outputs": [],
   "source": [
    "#dat['SIT_FINAL'].unique()"
   ]
  },
  {
   "cell_type": "code",
   "execution_count": 17,
   "id": "9ef7f5af",
   "metadata": {},
   "outputs": [],
   "source": [
    "#dat.isna().sum()"
   ]
  },
  {
   "cell_type": "code",
   "execution_count": 18,
   "id": "143e4594",
   "metadata": {
    "scrolled": true
   },
   "outputs": [
    {
     "data": {
      "text/html": [
       "<div>\n",
       "<style scoped>\n",
       "    .dataframe tbody tr th:only-of-type {\n",
       "        vertical-align: middle;\n",
       "    }\n",
       "\n",
       "    .dataframe tbody tr th {\n",
       "        vertical-align: top;\n",
       "    }\n",
       "\n",
       "    .dataframe thead th {\n",
       "        text-align: right;\n",
       "    }\n",
       "</style>\n",
       "<table border=\"1\" class=\"dataframe\">\n",
       "  <thead>\n",
       "    <tr style=\"text-align: right;\">\n",
       "      <th></th>\n",
       "      <th>RBD</th>\n",
       "      <th>NOM_RBD</th>\n",
       "      <th>COD_REG_RBD</th>\n",
       "      <th>NOM_REG_RBD_A</th>\n",
       "      <th>COD_DEPENDENCIA</th>\n",
       "      <th>RURAL_RBD</th>\n",
       "      <th>COD_ENSEÑANZA</th>\n",
       "      <th>COD_ENSEÑANZA2</th>\n",
       "      <th>COD_GRADO</th>\n",
       "      <th>PROM_GRAL</th>\n",
       "      <th>SIT_FINAL_P</th>\n",
       "      <th>SIT_FINAL_R</th>\n",
       "      <th>SIT_FINAL_T</th>\n",
       "      <th>SIT_FINAL_Y</th>\n",
       "    </tr>\n",
       "  </thead>\n",
       "  <tbody>\n",
       "    <tr>\n",
       "      <th>0</th>\n",
       "      <td>1</td>\n",
       "      <td>LICEO POLITECNICO ARICA</td>\n",
       "      <td>15</td>\n",
       "      <td>AYP</td>\n",
       "      <td>5</td>\n",
       "      <td>0</td>\n",
       "      <td>510</td>\n",
       "      <td>7</td>\n",
       "      <td>1</td>\n",
       "      <td>6,2</td>\n",
       "      <td>1</td>\n",
       "      <td>0</td>\n",
       "      <td>0</td>\n",
       "      <td>0</td>\n",
       "    </tr>\n",
       "    <tr>\n",
       "      <th>1</th>\n",
       "      <td>1</td>\n",
       "      <td>LICEO POLITECNICO ARICA</td>\n",
       "      <td>15</td>\n",
       "      <td>AYP</td>\n",
       "      <td>5</td>\n",
       "      <td>0</td>\n",
       "      <td>510</td>\n",
       "      <td>7</td>\n",
       "      <td>1</td>\n",
       "      <td>6,8</td>\n",
       "      <td>1</td>\n",
       "      <td>0</td>\n",
       "      <td>0</td>\n",
       "      <td>0</td>\n",
       "    </tr>\n",
       "    <tr>\n",
       "      <th>2</th>\n",
       "      <td>1</td>\n",
       "      <td>LICEO POLITECNICO ARICA</td>\n",
       "      <td>15</td>\n",
       "      <td>AYP</td>\n",
       "      <td>5</td>\n",
       "      <td>0</td>\n",
       "      <td>510</td>\n",
       "      <td>7</td>\n",
       "      <td>1</td>\n",
       "      <td>4,4</td>\n",
       "      <td>1</td>\n",
       "      <td>0</td>\n",
       "      <td>0</td>\n",
       "      <td>0</td>\n",
       "    </tr>\n",
       "    <tr>\n",
       "      <th>3</th>\n",
       "      <td>1</td>\n",
       "      <td>LICEO POLITECNICO ARICA</td>\n",
       "      <td>15</td>\n",
       "      <td>AYP</td>\n",
       "      <td>5</td>\n",
       "      <td>0</td>\n",
       "      <td>510</td>\n",
       "      <td>7</td>\n",
       "      <td>1</td>\n",
       "      <td>0</td>\n",
       "      <td>0</td>\n",
       "      <td>0</td>\n",
       "      <td>1</td>\n",
       "      <td>0</td>\n",
       "    </tr>\n",
       "    <tr>\n",
       "      <th>4</th>\n",
       "      <td>1</td>\n",
       "      <td>LICEO POLITECNICO ARICA</td>\n",
       "      <td>15</td>\n",
       "      <td>AYP</td>\n",
       "      <td>5</td>\n",
       "      <td>0</td>\n",
       "      <td>510</td>\n",
       "      <td>7</td>\n",
       "      <td>1</td>\n",
       "      <td>5,9</td>\n",
       "      <td>1</td>\n",
       "      <td>0</td>\n",
       "      <td>0</td>\n",
       "      <td>0</td>\n",
       "    </tr>\n",
       "  </tbody>\n",
       "</table>\n",
       "</div>"
      ],
      "text/plain": [
       "   RBD                  NOM_RBD  COD_REG_RBD NOM_REG_RBD_A  COD_DEPENDENCIA  \\\n",
       "0    1  LICEO POLITECNICO ARICA           15           AYP                5   \n",
       "1    1  LICEO POLITECNICO ARICA           15           AYP                5   \n",
       "2    1  LICEO POLITECNICO ARICA           15           AYP                5   \n",
       "3    1  LICEO POLITECNICO ARICA           15           AYP                5   \n",
       "4    1  LICEO POLITECNICO ARICA           15           AYP                5   \n",
       "\n",
       "   RURAL_RBD  COD_ENSEÑANZA  COD_ENSEÑANZA2  COD_GRADO PROM_GRAL  SIT_FINAL_P  \\\n",
       "0          0            510               7          1       6,2            1   \n",
       "1          0            510               7          1       6,8            1   \n",
       "2          0            510               7          1       4,4            1   \n",
       "3          0            510               7          1         0            0   \n",
       "4          0            510               7          1       5,9            1   \n",
       "\n",
       "   SIT_FINAL_R  SIT_FINAL_T  SIT_FINAL_Y  \n",
       "0            0            0            0  \n",
       "1            0            0            0  \n",
       "2            0            0            0  \n",
       "3            0            1            0  \n",
       "4            0            0            0  "
      ]
     },
     "execution_count": 18,
     "metadata": {},
     "output_type": "execute_result"
    }
   ],
   "source": [
    "data = pd.get_dummies(data=dat, columns=['SIT_FINAL'])\n",
    "data.head()"
   ]
  },
  {
   "cell_type": "code",
   "execution_count": 19,
   "id": "2bca90c4",
   "metadata": {},
   "outputs": [],
   "source": [
    "keep_cols2 = ['RBD', 'NOM_RBD', 'COD_REG_RBD', 'NOM_REG_RBD_A', 'COD_DEPENDENCIA',\n",
    "            'RURAL_RBD', 'COD_ENSEÑANZA', 'COD_ENSEÑANZA2', 'COD_GRADO', 'SIT_FINAL_P']\n",
    "data = data[keep_cols2]\n",
    "data.reset_index(drop=True, inplace=True)"
   ]
  },
  {
   "cell_type": "code",
   "execution_count": 20,
   "id": "8eeb590f",
   "metadata": {},
   "outputs": [
    {
     "data": {
      "text/html": [
       "<div>\n",
       "<style scoped>\n",
       "    .dataframe tbody tr th:only-of-type {\n",
       "        vertical-align: middle;\n",
       "    }\n",
       "\n",
       "    .dataframe tbody tr th {\n",
       "        vertical-align: top;\n",
       "    }\n",
       "\n",
       "    .dataframe thead th {\n",
       "        text-align: right;\n",
       "    }\n",
       "</style>\n",
       "<table border=\"1\" class=\"dataframe\">\n",
       "  <thead>\n",
       "    <tr style=\"text-align: right;\">\n",
       "      <th></th>\n",
       "      <th>RBD</th>\n",
       "      <th>NOM_RBD</th>\n",
       "      <th>COD_REG_RBD</th>\n",
       "      <th>NOM_REG_RBD_A</th>\n",
       "      <th>COD_DEPENDENCIA</th>\n",
       "      <th>RURAL_RBD</th>\n",
       "      <th>COD_ENSEÑANZA</th>\n",
       "      <th>COD_ENSEÑANZA2</th>\n",
       "      <th>COD_GRADO</th>\n",
       "      <th>SIT_FINAL_P</th>\n",
       "    </tr>\n",
       "  </thead>\n",
       "  <tbody>\n",
       "    <tr>\n",
       "      <th>0</th>\n",
       "      <td>1</td>\n",
       "      <td>LICEO POLITECNICO ARICA</td>\n",
       "      <td>15</td>\n",
       "      <td>AYP</td>\n",
       "      <td>5</td>\n",
       "      <td>0</td>\n",
       "      <td>510</td>\n",
       "      <td>7</td>\n",
       "      <td>1</td>\n",
       "      <td>1</td>\n",
       "    </tr>\n",
       "    <tr>\n",
       "      <th>1</th>\n",
       "      <td>1</td>\n",
       "      <td>LICEO POLITECNICO ARICA</td>\n",
       "      <td>15</td>\n",
       "      <td>AYP</td>\n",
       "      <td>5</td>\n",
       "      <td>0</td>\n",
       "      <td>510</td>\n",
       "      <td>7</td>\n",
       "      <td>1</td>\n",
       "      <td>1</td>\n",
       "    </tr>\n",
       "    <tr>\n",
       "      <th>2</th>\n",
       "      <td>1</td>\n",
       "      <td>LICEO POLITECNICO ARICA</td>\n",
       "      <td>15</td>\n",
       "      <td>AYP</td>\n",
       "      <td>5</td>\n",
       "      <td>0</td>\n",
       "      <td>510</td>\n",
       "      <td>7</td>\n",
       "      <td>1</td>\n",
       "      <td>1</td>\n",
       "    </tr>\n",
       "    <tr>\n",
       "      <th>3</th>\n",
       "      <td>1</td>\n",
       "      <td>LICEO POLITECNICO ARICA</td>\n",
       "      <td>15</td>\n",
       "      <td>AYP</td>\n",
       "      <td>5</td>\n",
       "      <td>0</td>\n",
       "      <td>510</td>\n",
       "      <td>7</td>\n",
       "      <td>1</td>\n",
       "      <td>0</td>\n",
       "    </tr>\n",
       "    <tr>\n",
       "      <th>4</th>\n",
       "      <td>1</td>\n",
       "      <td>LICEO POLITECNICO ARICA</td>\n",
       "      <td>15</td>\n",
       "      <td>AYP</td>\n",
       "      <td>5</td>\n",
       "      <td>0</td>\n",
       "      <td>510</td>\n",
       "      <td>7</td>\n",
       "      <td>1</td>\n",
       "      <td>1</td>\n",
       "    </tr>\n",
       "    <tr>\n",
       "      <th>...</th>\n",
       "      <td>...</td>\n",
       "      <td>...</td>\n",
       "      <td>...</td>\n",
       "      <td>...</td>\n",
       "      <td>...</td>\n",
       "      <td>...</td>\n",
       "      <td>...</td>\n",
       "      <td>...</td>\n",
       "      <td>...</td>\n",
       "      <td>...</td>\n",
       "    </tr>\n",
       "    <tr>\n",
       "      <th>933866</th>\n",
       "      <td>41780</td>\n",
       "      <td>COLEGIO ALICANTO</td>\n",
       "      <td>3</td>\n",
       "      <td>ATCMA</td>\n",
       "      <td>3</td>\n",
       "      <td>0</td>\n",
       "      <td>310</td>\n",
       "      <td>5</td>\n",
       "      <td>3</td>\n",
       "      <td>1</td>\n",
       "    </tr>\n",
       "    <tr>\n",
       "      <th>933867</th>\n",
       "      <td>41780</td>\n",
       "      <td>COLEGIO ALICANTO</td>\n",
       "      <td>3</td>\n",
       "      <td>ATCMA</td>\n",
       "      <td>3</td>\n",
       "      <td>0</td>\n",
       "      <td>310</td>\n",
       "      <td>5</td>\n",
       "      <td>3</td>\n",
       "      <td>1</td>\n",
       "    </tr>\n",
       "    <tr>\n",
       "      <th>933868</th>\n",
       "      <td>41780</td>\n",
       "      <td>COLEGIO ALICANTO</td>\n",
       "      <td>3</td>\n",
       "      <td>ATCMA</td>\n",
       "      <td>3</td>\n",
       "      <td>0</td>\n",
       "      <td>310</td>\n",
       "      <td>5</td>\n",
       "      <td>3</td>\n",
       "      <td>1</td>\n",
       "    </tr>\n",
       "    <tr>\n",
       "      <th>933869</th>\n",
       "      <td>41780</td>\n",
       "      <td>COLEGIO ALICANTO</td>\n",
       "      <td>3</td>\n",
       "      <td>ATCMA</td>\n",
       "      <td>3</td>\n",
       "      <td>0</td>\n",
       "      <td>310</td>\n",
       "      <td>5</td>\n",
       "      <td>3</td>\n",
       "      <td>1</td>\n",
       "    </tr>\n",
       "    <tr>\n",
       "      <th>933870</th>\n",
       "      <td>41780</td>\n",
       "      <td>COLEGIO ALICANTO</td>\n",
       "      <td>3</td>\n",
       "      <td>ATCMA</td>\n",
       "      <td>3</td>\n",
       "      <td>0</td>\n",
       "      <td>310</td>\n",
       "      <td>5</td>\n",
       "      <td>4</td>\n",
       "      <td>1</td>\n",
       "    </tr>\n",
       "  </tbody>\n",
       "</table>\n",
       "<p>933871 rows × 10 columns</p>\n",
       "</div>"
      ],
      "text/plain": [
       "          RBD                  NOM_RBD  COD_REG_RBD NOM_REG_RBD_A  \\\n",
       "0           1  LICEO POLITECNICO ARICA           15           AYP   \n",
       "1           1  LICEO POLITECNICO ARICA           15           AYP   \n",
       "2           1  LICEO POLITECNICO ARICA           15           AYP   \n",
       "3           1  LICEO POLITECNICO ARICA           15           AYP   \n",
       "4           1  LICEO POLITECNICO ARICA           15           AYP   \n",
       "...       ...                      ...          ...           ...   \n",
       "933866  41780         COLEGIO ALICANTO            3         ATCMA   \n",
       "933867  41780         COLEGIO ALICANTO            3         ATCMA   \n",
       "933868  41780         COLEGIO ALICANTO            3         ATCMA   \n",
       "933869  41780         COLEGIO ALICANTO            3         ATCMA   \n",
       "933870  41780         COLEGIO ALICANTO            3         ATCMA   \n",
       "\n",
       "        COD_DEPENDENCIA  RURAL_RBD  COD_ENSEÑANZA  COD_ENSEÑANZA2  COD_GRADO  \\\n",
       "0                     5          0            510               7          1   \n",
       "1                     5          0            510               7          1   \n",
       "2                     5          0            510               7          1   \n",
       "3                     5          0            510               7          1   \n",
       "4                     5          0            510               7          1   \n",
       "...                 ...        ...            ...             ...        ...   \n",
       "933866                3          0            310               5          3   \n",
       "933867                3          0            310               5          3   \n",
       "933868                3          0            310               5          3   \n",
       "933869                3          0            310               5          3   \n",
       "933870                3          0            310               5          4   \n",
       "\n",
       "        SIT_FINAL_P  \n",
       "0                 1  \n",
       "1                 1  \n",
       "2                 1  \n",
       "3                 0  \n",
       "4                 1  \n",
       "...             ...  \n",
       "933866            1  \n",
       "933867            1  \n",
       "933868            1  \n",
       "933869            1  \n",
       "933870            1  \n",
       "\n",
       "[933871 rows x 10 columns]"
      ]
     },
     "execution_count": 20,
     "metadata": {},
     "output_type": "execute_result"
    }
   ],
   "source": [
    "data"
   ]
  },
  {
   "cell_type": "code",
   "execution_count": 21,
   "id": "59e2c21b",
   "metadata": {},
   "outputs": [
    {
     "data": {
      "text/plain": [
       "1    883117\n",
       "0     50754\n",
       "Name: SIT_FINAL_P, dtype: int64"
      ]
     },
     "execution_count": 21,
     "metadata": {},
     "output_type": "execute_result"
    }
   ],
   "source": [
    "data['SIT_FINAL_P'].value_counts()"
   ]
  }
 ],
 "metadata": {
  "kernelspec": {
   "display_name": "Python 3",
   "language": "python",
   "name": "python3"
  },
  "language_info": {
   "codemirror_mode": {
    "name": "ipython",
    "version": 3
   },
   "file_extension": ".py",
   "mimetype": "text/x-python",
   "name": "python",
   "nbconvert_exporter": "python",
   "pygments_lexer": "ipython3",
   "version": "3.8.8"
  }
 },
 "nbformat": 4,
 "nbformat_minor": 5
}
